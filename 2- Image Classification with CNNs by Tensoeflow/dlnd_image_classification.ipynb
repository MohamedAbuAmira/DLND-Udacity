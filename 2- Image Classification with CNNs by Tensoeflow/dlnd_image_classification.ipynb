{
  "nbformat": 4,
  "nbformat_minor": 0,
  "metadata": {
    "kernelspec": {
      "display_name": "Python 3",
      "language": "python",
      "name": "python3"
    },
    "language_info": {
      "codemirror_mode": {
        "name": "ipython",
        "version": 3
      },
      "file_extension": ".py",
      "mimetype": "text/x-python",
      "name": "python",
      "nbconvert_exporter": "python",
      "pygments_lexer": "ipython3",
      "version": "3.7.4"
    },
    "colab": {
      "name": "dlnd_image_classification.ipynb",
      "provenance": [],
      "collapsed_sections": [],
      "toc_visible": true
    },
    "accelerator": "GPU"
  },
  "cells": [
    {
      "cell_type": "markdown",
      "metadata": {
        "collapsed": true,
        "id": "-q9Z2ndh5RKV",
        "colab_type": "text"
      },
      "source": [
        "# Image Classification\n",
        "In this project, you'll classify images from the [CIFAR-10 dataset](https://www.cs.toronto.edu/~kriz/cifar.html).  The dataset consists of airplanes, dogs, cats, and other objects. You'll preprocess the images, then train a convolutional neural network on all the samples. The images need to be normalized and the labels need to be one-hot encoded.  You'll get to apply what you learned and build a convolutional, max pooling, dropout, and fully connected layers.  At the end, you'll get to see your neural network's predictions on the sample images.\n",
        "## Get the Data\n",
        "Run the following cell to download the [CIFAR-10 dataset for python](https://www.cs.toronto.edu/~kriz/cifar-10-python.tar.gz)."
      ]
    },
    {
      "cell_type": "code",
      "metadata": {
        "id": "HA1Pv9dWfRng",
        "colab_type": "code",
        "colab": {
          "base_uri": "https://localhost:8080/",
          "height": 581
        },
        "outputId": "414909d8-498d-48d3-d01a-bf0e074b94f7"
      },
      "source": [
        "!pip install tensorflow==1.12.0\n",
        "import tensorflow as tf\n",
        "print(tf.__version__)"
      ],
      "execution_count": 1,
      "outputs": [
        {
          "output_type": "stream",
          "text": [
            "Requirement already satisfied: tensorflow==1.12.0 in /usr/local/lib/python3.6/dist-packages (1.12.0)\n",
            "Requirement already satisfied: keras-applications>=1.0.6 in /usr/local/lib/python3.6/dist-packages (from tensorflow==1.12.0) (1.0.8)\n",
            "Requirement already satisfied: gast>=0.2.0 in /usr/local/lib/python3.6/dist-packages (from tensorflow==1.12.0) (0.3.3)\n",
            "Requirement already satisfied: grpcio>=1.8.6 in /usr/local/lib/python3.6/dist-packages (from tensorflow==1.12.0) (1.29.0)\n",
            "Requirement already satisfied: termcolor>=1.1.0 in /usr/local/lib/python3.6/dist-packages (from tensorflow==1.12.0) (1.1.0)\n",
            "Requirement already satisfied: wheel>=0.26 in /usr/local/lib/python3.6/dist-packages (from tensorflow==1.12.0) (0.34.2)\n",
            "Requirement already satisfied: astor>=0.6.0 in /usr/local/lib/python3.6/dist-packages (from tensorflow==1.12.0) (0.8.1)\n",
            "Requirement already satisfied: numpy>=1.13.3 in /usr/local/lib/python3.6/dist-packages (from tensorflow==1.12.0) (1.18.4)\n",
            "Requirement already satisfied: protobuf>=3.6.1 in /usr/local/lib/python3.6/dist-packages (from tensorflow==1.12.0) (3.10.0)\n",
            "Requirement already satisfied: tensorboard<1.13.0,>=1.12.0 in /usr/local/lib/python3.6/dist-packages (from tensorflow==1.12.0) (1.12.2)\n",
            "Requirement already satisfied: keras-preprocessing>=1.0.5 in /usr/local/lib/python3.6/dist-packages (from tensorflow==1.12.0) (1.1.2)\n",
            "Requirement already satisfied: absl-py>=0.1.6 in /usr/local/lib/python3.6/dist-packages (from tensorflow==1.12.0) (0.9.0)\n",
            "Requirement already satisfied: six>=1.10.0 in /usr/local/lib/python3.6/dist-packages (from tensorflow==1.12.0) (1.12.0)\n",
            "Requirement already satisfied: h5py in /usr/local/lib/python3.6/dist-packages (from keras-applications>=1.0.6->tensorflow==1.12.0) (2.10.0)\n",
            "Requirement already satisfied: setuptools in /usr/local/lib/python3.6/dist-packages (from protobuf>=3.6.1->tensorflow==1.12.0) (47.1.1)\n",
            "Requirement already satisfied: markdown>=2.6.8 in /usr/local/lib/python3.6/dist-packages (from tensorboard<1.13.0,>=1.12.0->tensorflow==1.12.0) (3.2.2)\n",
            "Requirement already satisfied: werkzeug>=0.11.10 in /usr/local/lib/python3.6/dist-packages (from tensorboard<1.13.0,>=1.12.0->tensorflow==1.12.0) (1.0.1)\n",
            "Requirement already satisfied: importlib-metadata; python_version < \"3.8\" in /usr/local/lib/python3.6/dist-packages (from markdown>=2.6.8->tensorboard<1.13.0,>=1.12.0->tensorflow==1.12.0) (1.6.0)\n",
            "Requirement already satisfied: zipp>=0.5 in /usr/local/lib/python3.6/dist-packages (from importlib-metadata; python_version < \"3.8\"->markdown>=2.6.8->tensorboard<1.13.0,>=1.12.0->tensorflow==1.12.0) (3.1.0)\n"
          ],
          "name": "stdout"
        },
        {
          "output_type": "stream",
          "text": [
            "/usr/local/lib/python3.6/dist-packages/tensorflow/python/framework/dtypes.py:523: FutureWarning: Passing (type, 1) or '1type' as a synonym of type is deprecated; in a future version of numpy, it will be understood as (type, (1,)) / '(1,)type'.\n",
            "  _np_qint8 = np.dtype([(\"qint8\", np.int8, 1)])\n",
            "/usr/local/lib/python3.6/dist-packages/tensorflow/python/framework/dtypes.py:524: FutureWarning: Passing (type, 1) or '1type' as a synonym of type is deprecated; in a future version of numpy, it will be understood as (type, (1,)) / '(1,)type'.\n",
            "  _np_quint8 = np.dtype([(\"quint8\", np.uint8, 1)])\n",
            "/usr/local/lib/python3.6/dist-packages/tensorflow/python/framework/dtypes.py:525: FutureWarning: Passing (type, 1) or '1type' as a synonym of type is deprecated; in a future version of numpy, it will be understood as (type, (1,)) / '(1,)type'.\n",
            "  _np_qint16 = np.dtype([(\"qint16\", np.int16, 1)])\n",
            "/usr/local/lib/python3.6/dist-packages/tensorflow/python/framework/dtypes.py:526: FutureWarning: Passing (type, 1) or '1type' as a synonym of type is deprecated; in a future version of numpy, it will be understood as (type, (1,)) / '(1,)type'.\n",
            "  _np_quint16 = np.dtype([(\"quint16\", np.uint16, 1)])\n",
            "/usr/local/lib/python3.6/dist-packages/tensorflow/python/framework/dtypes.py:527: FutureWarning: Passing (type, 1) or '1type' as a synonym of type is deprecated; in a future version of numpy, it will be understood as (type, (1,)) / '(1,)type'.\n",
            "  _np_qint32 = np.dtype([(\"qint32\", np.int32, 1)])\n",
            "/usr/local/lib/python3.6/dist-packages/tensorflow/python/framework/dtypes.py:532: FutureWarning: Passing (type, 1) or '1type' as a synonym of type is deprecated; in a future version of numpy, it will be understood as (type, (1,)) / '(1,)type'.\n",
            "  np_resource = np.dtype([(\"resource\", np.ubyte, 1)])\n"
          ],
          "name": "stderr"
        },
        {
          "output_type": "stream",
          "text": [
            "1.12.0\n"
          ],
          "name": "stdout"
        }
      ]
    },
    {
      "cell_type": "code",
      "metadata": {
        "id": "5Ecq7v4T5RKX",
        "colab_type": "code",
        "outputId": "388bf399-64f0-4dec-e580-b6a612b6597a",
        "colab": {
          "base_uri": "https://localhost:8080/",
          "height": 34
        }
      },
      "source": [
        "\"\"\"\n",
        "DON'T MODIFY ANYTHING IN THIS CELL THAT IS BELOW THIS LINE\n",
        "\"\"\"\n",
        "from urllib.request import urlretrieve\n",
        "from os.path import isfile, isdir\n",
        "from tqdm import tqdm\n",
        "import problem_unittests as tests\n",
        "import tarfile\n",
        "\n",
        "cifar10_dataset_folder_path = 'cifar-10-batches-py'\n",
        "\n",
        "# Use Floyd's cifar-10 dataset if present\n",
        "floyd_cifar10_location = '/cifar/cifar-10-python.tar.gz'\n",
        "if isfile(floyd_cifar10_location):\n",
        "    tar_gz_path = floyd_cifar10_location\n",
        "else:\n",
        "    tar_gz_path = 'cifar-10-python.tar.gz'\n",
        "\n",
        "class DLProgress(tqdm):\n",
        "    last_block = 0\n",
        "\n",
        "    def hook(self, block_num=1, block_size=1, total_size=None):\n",
        "        self.total = total_size\n",
        "        self.update((block_num - self.last_block) * block_size)\n",
        "        self.last_block = block_num\n",
        "\n",
        "if not isfile(tar_gz_path):\n",
        "    with DLProgress(unit='B', unit_scale=True, miniters=1, desc='CIFAR-10 Dataset') as pbar:\n",
        "        urlretrieve(\n",
        "            'https://www.cs.toronto.edu/~kriz/cifar-10-python.tar.gz',\n",
        "            tar_gz_path,\n",
        "            pbar.hook)\n",
        "\n",
        "if not isdir(cifar10_dataset_folder_path):\n",
        "    with tarfile.open(tar_gz_path) as tar:\n",
        "        tar.extractall()\n",
        "        tar.close()\n",
        "\n",
        "\n",
        "tests.test_folder_path(cifar10_dataset_folder_path)"
      ],
      "execution_count": 3,
      "outputs": [
        {
          "output_type": "stream",
          "text": [
            "All files found!\n"
          ],
          "name": "stdout"
        }
      ]
    },
    {
      "cell_type": "markdown",
      "metadata": {
        "id": "yzER7E455RKg",
        "colab_type": "text"
      },
      "source": [
        "## Explore the Data\n",
        "The dataset is broken into batches to prevent your machine from running out of memory.  The CIFAR-10 dataset consists of 5 batches, named `data_batch_1`, `data_batch_2`, etc.. Each batch contains the labels and images that are one of the following:\n",
        "* airplane\n",
        "* automobile\n",
        "* bird\n",
        "* cat\n",
        "* deer\n",
        "* dog\n",
        "* frog\n",
        "* horse\n",
        "* ship\n",
        "* truck\n",
        "\n",
        "Understanding a dataset is part of making predictions on the data.  Play around with the code cell below by changing the `batch_id` and `sample_id`. The `batch_id` is the id for a batch (1-5). The `sample_id` is the id for a image and label pair in the batch.\n",
        "\n",
        "Ask yourself \"What are all possible labels?\", \"What is the range of values for the image data?\", \"Are the labels in order or random?\".  Answers to questions like these will help you preprocess the data and end up with better predictions."
      ]
    },
    {
      "cell_type": "code",
      "metadata": {
        "id": "ofhSsMMT5RKh",
        "colab_type": "code",
        "outputId": "44ec0363-7254-464b-a65a-56cf69b4d53b",
        "colab": {
          "base_uri": "https://localhost:8080/",
          "height": 418
        }
      },
      "source": [
        "%matplotlib inline\n",
        "%config InlineBackend.figure_format = 'retina'\n",
        "\n",
        "import helper\n",
        "import numpy as np\n",
        "\n",
        "# Explore the dataset\n",
        "batch_id = 1\n",
        "sample_id = 19\n",
        "helper.display_stats(cifar10_dataset_folder_path, batch_id, sample_id)"
      ],
      "execution_count": 4,
      "outputs": [
        {
          "output_type": "stream",
          "text": [
            "\n",
            "Stats of batch 1:\n",
            "Samples: 10000\n",
            "Label Counts: {0: 1005, 1: 974, 2: 1032, 3: 1016, 4: 999, 5: 937, 6: 1030, 7: 1001, 8: 1025, 9: 981}\n",
            "First 20 Labels: [6, 9, 9, 4, 1, 1, 2, 7, 8, 3, 4, 7, 7, 2, 9, 9, 9, 3, 2, 6]\n",
            "\n",
            "Example of Image 19:\n",
            "Image - Min Value: 9 Max Value: 242\n",
            "Image - Shape: (32, 32, 3)\n",
            "Label - Label Id: 6 Name: frog\n"
          ],
          "name": "stdout"
        },
        {
          "output_type": "display_data",
          "data": {
            "image/png": "[encoded data removed]",
            "text/plain": [
              "<Figure size 432x288 with 1 Axes>"
            ]
          },
          "metadata": {
            "tags": [],
            "image/png": {
              "width": 231,
              "height": 231
            },
            "needs_background": "light"
          }
        }
      ]
    },
    {
      "cell_type": "markdown",
      "metadata": {
        "id": "BZzXnQd65RKm",
        "colab_type": "text"
      },
      "source": [
        "## Implement Preprocess Functions\n",
        "### Normalize\n",
        "In the cell below, implement the `normalize` function to take in image data, `x`, and return it as a normalized Numpy array. The values should be in the range of 0 to 1, inclusive.  The return object should be the same shape as `x`."
      ]
    },
    {
      "cell_type": "code",
      "metadata": {
        "id": "3WiK1EqS5RKn",
        "colab_type": "code",
        "outputId": "380f1022-81cc-4189-8c7c-4ba0c199b6ec",
        "colab": {
          "base_uri": "https://localhost:8080/",
          "height": 34
        }
      },
      "source": [
        "def normalize(x):\n",
        "    \"\"\"\n",
        "    Normalize a list of sample image data in the range of 0 to 1\n",
        "    : x: List of image data.  The image shape is (32, 32, 3)\n",
        "    : return: Numpy array of normalize data\n",
        "    \"\"\"\n",
        "    # TODO: Implement Function\n",
        "    a = 0\n",
        "    b = 1\n",
        "    max_value = x.max()\n",
        "    min_value = x.min()\n",
        "    \n",
        "    normalized_image = a + (((x - min_value) * (b - a)) / (max_value - min_value))\n",
        "    return np.asarray(normalized_image)\n",
        "\n",
        "\n",
        "\"\"\"\n",
        "DON'T MODIFY ANYTHING IN THIS CELL THAT IS BELOW THIS LINE\n",
        "\"\"\"\n",
        "tests.test_normalize(normalize)"
      ],
      "execution_count": 5,
      "outputs": [
        {
          "output_type": "stream",
          "text": [
            "Tests Passed\n"
          ],
          "name": "stdout"
        }
      ]
    },
    {
      "cell_type": "markdown",
      "metadata": {
        "id": "2BQOnUfq5RKr",
        "colab_type": "text"
      },
      "source": [
        "### One-hot encode\n",
        "Just like the previous code cell, you'll be implementing a function for preprocessing.  This time, you'll implement the `one_hot_encode` function. The input, `x`, are a list of labels.  Implement the function to return the list of labels as One-Hot encoded Numpy array.  The possible values for labels are 0 to 9. The one-hot encoding function should return the same encoding for each value between each call to `one_hot_encode`.  Make sure to save the map of encodings outside the function.\n",
        "\n",
        "Hint: Don't reinvent the wheel."
      ]
    },
    {
      "cell_type": "code",
      "metadata": {
        "id": "jKEfvVDR5RKs",
        "colab_type": "code",
        "outputId": "4a6ae050-595b-416f-ca44-31aaf4093792",
        "colab": {
          "base_uri": "https://localhost:8080/",
          "height": 34
        }
      },
      "source": [
        "def one_hot_encode(x):\n",
        "    \"\"\"\n",
        "    One hot encode a list of sample labels. Return a one-hot encoded vector for each label.\n",
        "    : x: List of sample Labels\n",
        "    : return: Numpy array of one-hot encoded labels\n",
        "    \"\"\"\n",
        "    # TODO: Implement Function\n",
        "    return np.eye(10)[x]\n",
        "\n",
        "\n",
        "\"\"\"\n",
        "DON'T MODIFY ANYTHING IN THIS CELL THAT IS BELOW THIS LINE\n",
        "\"\"\"\n",
        "tests.test_one_hot_encode(one_hot_encode)"
      ],
      "execution_count": 6,
      "outputs": [
        {
          "output_type": "stream",
          "text": [
            "Tests Passed\n"
          ],
          "name": "stdout"
        }
      ]
    },
    {
      "cell_type": "markdown",
      "metadata": {
        "id": "OaSmzlH35RKx",
        "colab_type": "text"
      },
      "source": [
        "### Randomize Data\n",
        "As you saw from exploring the data above, the order of the samples are randomized.  It doesn't hurt to randomize it again, but you don't need to for this dataset."
      ]
    },
    {
      "cell_type": "markdown",
      "metadata": {
        "id": "WOS5bZgw5RKy",
        "colab_type": "text"
      },
      "source": [
        "## Preprocess all the data and save it\n",
        "Running the code cell below will preprocess all the CIFAR-10 data and save it to file. The code below also uses 10% of the training data for validation."
      ]
    },
    {
      "cell_type": "code",
      "metadata": {
        "id": "ACtP8ipo5RKy",
        "colab_type": "code",
        "colab": {}
      },
      "source": [
        "\"\"\"\n",
        "DON'T MODIFY ANYTHING IN THIS CELL\n",
        "\"\"\"\n",
        "# Preprocess Training, Validation, and Testing Data\n",
        "helper.preprocess_and_save_data(cifar10_dataset_folder_path, normalize, one_hot_encode)"
      ],
      "execution_count": 0,
      "outputs": []
    },
    {
      "cell_type": "markdown",
      "metadata": {
        "id": "xOCL8zYG5RK4",
        "colab_type": "text"
      },
      "source": [
        "# Check Point\n",
        "This is your first checkpoint.  If you ever decide to come back to this notebook or have to restart the notebook, you can start from here.  The preprocessed data has been saved to disk."
      ]
    },
    {
      "cell_type": "code",
      "metadata": {
        "id": "9Dhi6NmM5RK5",
        "colab_type": "code",
        "colab": {}
      },
      "source": [
        "\"\"\"\n",
        "DON'T MODIFY ANYTHING IN THIS CELL\n",
        "\"\"\"\n",
        "import pickle\n",
        "import problem_unittests as tests\n",
        "import helper\n",
        "\n",
        "# Load the Preprocessed Validation data\n",
        "valid_features, valid_labels = pickle.load(open('preprocess_validation.p', mode='rb'))"
      ],
      "execution_count": 0,
      "outputs": []
    },
    {
      "cell_type": "markdown",
      "metadata": {
        "id": "Oe9GYAY95RK_",
        "colab_type": "text"
      },
      "source": [
        "## Build the network\n",
        "For the neural network, you'll build each layer into a function.  Most of the code you've seen has been outside of functions. To test your code more thoroughly, we require that you put each layer in a function.  This allows us to give you better feedback and test for simple mistakes using our unittests before you submit your project.\n",
        "\n",
        ">**Note:** If you're finding it hard to dedicate enough time for this course each week, we've provided a small shortcut to this part of the project. In the next couple of problems, you'll have the option to use classes from the [TensorFlow Layers](https://www.tensorflow.org/api_docs/python/tf/layers) or [TensorFlow Layers (contrib)](https://www.tensorflow.org/api_guides/python/contrib.layers) packages to build each layer, except the layers you build in the \"Convolutional and Max Pooling Layer\" section.  TF Layers is similar to Keras's and TFLearn's abstraction to layers, so it's easy to pickup.\n",
        "\n",
        ">However, if you would like to get the most out of this course, try to solve all the problems _without_ using anything from the TF Layers packages. You **can** still use classes from other packages that happen to have the same name as ones you find in TF Layers! For example, instead of using the TF Layers version of the `conv2d` class, [tf.layers.conv2d](https://www.tensorflow.org/api_docs/python/tf/layers/conv2d), you would want to use the TF Neural Network version of `conv2d`, [tf.nn.conv2d](https://www.tensorflow.org/api_docs/python/tf/nn/conv2d). \n",
        "\n",
        "Let's begin!\n",
        "\n",
        "### Input\n",
        "The neural network needs to read the image data, one-hot encoded labels, and dropout keep probability. Implement the following functions\n",
        "* Implement `neural_net_image_input`\n",
        " * Return a [TF Placeholder](https://www.tensorflow.org/api_docs/python/tf/placeholder)\n",
        " * Set the shape using `image_shape` with batch size set to `None`.\n",
        " * Name the TensorFlow placeholder \"x\" using the TensorFlow `name` parameter in the [TF Placeholder](https://www.tensorflow.org/api_docs/python/tf/placeholder).\n",
        "* Implement `neural_net_label_input`\n",
        " * Return a [TF Placeholder](https://www.tensorflow.org/api_docs/python/tf/placeholder)\n",
        " * Set the shape using `n_classes` with batch size set to `None`.\n",
        " * Name the TensorFlow placeholder \"y\" using the TensorFlow `name` parameter in the [TF Placeholder](https://www.tensorflow.org/api_docs/python/tf/placeholder).\n",
        "* Implement `neural_net_keep_prob_input`\n",
        " * Return a [TF Placeholder](https://www.tensorflow.org/api_docs/python/tf/placeholder) for dropout keep probability.\n",
        " * Name the TensorFlow placeholder \"keep_prob\" using the TensorFlow `name` parameter in the [TF Placeholder](https://www.tensorflow.org/api_docs/python/tf/placeholder).\n",
        "\n",
        "These names will be used at the end of the project to load your saved model.\n",
        "\n",
        "Note: `None` for shapes in TensorFlow allow for a dynamic size."
      ]
    },
    {
      "cell_type": "code",
      "metadata": {
        "id": "kw2ADKGP5RLA",
        "colab_type": "code",
        "outputId": "c1cc621b-e953-44ee-818e-e50c92b741f5",
        "colab": {
          "base_uri": "https://localhost:8080/",
          "height": 68
        }
      },
      "source": [
        "\n",
        "\n",
        "def neural_net_image_input(image_shape):\n",
        "    \"\"\"\n",
        "    Return a Tensor for a batch of image input\n",
        "    : image_shape: Shape of the images\n",
        "    : return: Tensor for image input.\n",
        "    \"\"\"\n",
        "    # TODO: Implement Function\n",
        "    x = tf.placeholder(tf.float32, shape=(None, image_shape[0], image_shape[1], image_shape[2]), name = 'x')\n",
        "    return x\n",
        "\n",
        "\n",
        "def neural_net_label_input(n_classes):\n",
        "    \"\"\"\n",
        "    Return a Tensor for a batch of label input\n",
        "    : n_classes: Number of classes\n",
        "    : return: Tensor for label input.\n",
        "    \"\"\"\n",
        "    # TODO: Implement Function\n",
        "    y = tf.placeholder(tf.float32, shape=(None, n_classes), name = 'y')\n",
        "    return y\n",
        "\n",
        "\n",
        "def neural_net_keep_prob_input():\n",
        "    \"\"\"\n",
        "    Return a Tensor for keep probability\n",
        "    : return: Tensor for keep probability.\n",
        "    \"\"\"\n",
        "    # TODO: Implement Function\n",
        "    return tf.placeholder(tf.float32, name = 'keep_prob')\n",
        "\n",
        "\n",
        "\"\"\"\n",
        "DON'T MODIFY ANYTHING IN THIS CELL THAT IS BELOW THIS LINE\n",
        "\"\"\"\n",
        "tf.reset_default_graph()\n",
        "tests.test_nn_image_inputs(neural_net_image_input)\n",
        "tests.test_nn_label_inputs(neural_net_label_input)\n",
        "tests.test_nn_keep_prob_inputs(neural_net_keep_prob_input)"
      ],
      "execution_count": 9,
      "outputs": [
        {
          "output_type": "stream",
          "text": [
            "Image Input Tests Passed.\n",
            "Label Input Tests Passed.\n",
            "Keep Prob Tests Passed.\n"
          ],
          "name": "stdout"
        }
      ]
    },
    {
      "cell_type": "markdown",
      "metadata": {
        "id": "wTgCTKph5RLE",
        "colab_type": "text"
      },
      "source": [
        "### Convolution and Max Pooling Layer\n",
        "Convolution layers have a lot of success with images. For this code cell, you should implement the function `conv2d_maxpool` to apply convolution then max pooling:\n",
        "* Create the weight and bias using `conv_ksize`, `conv_num_outputs` and the shape of `x_tensor`.\n",
        "* Apply a convolution to `x_tensor` using weight and `conv_strides`.\n",
        " * We recommend you use same padding, but you're welcome to use any padding.\n",
        "* Add bias\n",
        "* Add a nonlinear activation to the convolution.\n",
        "* Apply Max Pooling using `pool_ksize` and `pool_strides`.\n",
        " * We recommend you use same padding, but you're welcome to use any padding.\n",
        "\n",
        "**Note:** You **can't** use [TensorFlow Layers](https://www.tensorflow.org/api_docs/python/tf/layers) or [TensorFlow Layers (contrib)](https://www.tensorflow.org/api_guides/python/contrib.layers) for **this** layer, but you can still use TensorFlow's [Neural Network](https://www.tensorflow.org/api_docs/python/tf/nn) package. You may still use the shortcut option for all the **other** layers."
      ]
    },
    {
      "cell_type": "code",
      "metadata": {
        "id": "w00L02Pq5RLF",
        "colab_type": "code",
        "colab": {
          "base_uri": "https://localhost:8080/",
          "height": 34
        },
        "outputId": "54599022-eb18-47cb-d88b-2141aebb54de"
      },
      "source": [
        "def conv2d_maxpool(x_tensor, conv_num_outputs, conv_ksize, conv_strides, pool_ksize, pool_strides):\n",
        "    \"\"\"\n",
        "    Apply convolution then max pooling to x_tensor\n",
        "    :param x_tensor: TensorFlow Tensor\n",
        "    :param conv_num_outputs: Number of outputs for the convolutional layer\n",
        "    :param conv_ksize: kernal size 2-D Tuple for the convolutional layer\n",
        "    :param conv_strides: Stride 2-D Tuple for convolution\n",
        "    :param pool_ksize: kernal size 2-D Tuple for pool\n",
        "    :param pool_strides: Stride 2-D Tuple for pool\n",
        "    : return: A tensor that represents convolution and max pooling of x_tensor\n",
        "    \"\"\"\n",
        "    # TODO: Implement Function\n",
        "    weight = tf.Variable(tf.truncated_normal([conv_ksize[0], \n",
        "                                              conv_ksize[1], \n",
        "                                              x_tensor.get_shape().as_list()[-1],\n",
        "                                              conv_num_outputs], stddev=0.1))\n",
        "    bias = tf.Variable(tf.zeros([conv_num_outputs]))\n",
        "    \n",
        "    # Apply Convolution\n",
        "    conv_layer = tf.nn.conv2d(x_tensor, weight, strides=[1, conv_strides[0], conv_strides[1], 1], padding='SAME')\n",
        "    \n",
        "    # Add bias\n",
        "    conv_layer = tf.nn.bias_add(conv_layer, bias)\n",
        "    \n",
        "    # Apply activation function\n",
        "    conv_layer = tf.nn.relu(conv_layer)\n",
        "    \n",
        "    # Apply Max Pooling\n",
        "    conv_layer = tf.nn.max_pool(\n",
        "    conv_layer,\n",
        "    ksize=[1, pool_ksize[0], pool_ksize[1], 1],\n",
        "    strides=[1, pool_strides[0], pool_strides[1], 1],\n",
        "    padding='SAME')\n",
        "    return conv_layer\n",
        "\n",
        "\n",
        "\"\"\"\n",
        "DON'T MODIFY ANYTHING IN THIS CELL THAT IS BELOW THIS LINE\n",
        "\"\"\"\n",
        "tests.test_con_pool(conv2d_maxpool)"
      ],
      "execution_count": 10,
      "outputs": [
        {
          "output_type": "stream",
          "text": [
            "Tests Passed\n"
          ],
          "name": "stdout"
        }
      ]
    },
    {
      "cell_type": "markdown",
      "metadata": {
        "id": "FIMZvsFw5RLJ",
        "colab_type": "text"
      },
      "source": [
        "### Flatten Layer\n",
        "Implement the `flatten` function to change the dimension of `x_tensor` from a 4-D tensor to a 2-D tensor.  The output should be the shape (*Batch Size*, *Flattened Image Size*). Shortcut option: you can use classes from the [TensorFlow Layers](https://www.tensorflow.org/api_docs/python/tf/layers) or [TensorFlow Layers (contrib)](https://www.tensorflow.org/api_guides/python/contrib.layers) packages for this layer. For more of a challenge, only use other TensorFlow packages."
      ]
    },
    {
      "cell_type": "code",
      "metadata": {
        "id": "QZa6sC5v5RLK",
        "colab_type": "code",
        "colab": {
          "base_uri": "https://localhost:8080/",
          "height": 34
        },
        "outputId": "3c53783e-90ba-48f1-de0c-b591c98b1f11"
      },
      "source": [
        "def flatten(x_tensor):\n",
        "    \"\"\"\n",
        "    Flatten x_tensor to (Batch Size, Flattened Image Size)\n",
        "    : x_tensor: A tensor of size (Batch Size, ...), where ... are the image dimensions.\n",
        "    : return: A tensor of size (Batch Size, Flattened Image Size).\n",
        "    \"\"\"\n",
        "    # TODO: Implement Function\n",
        "    \n",
        "    flattene_image_size=np.prod(x_tensor.get_shape().as_list()[1:])\n",
        "    #or \n",
        "    #flattene_image_size=x_tensor.get_shape().as_list()[1] * x_tensor.get_shape().as_list()[2] * x_tensor.get_shape().as_list()[3]\n",
        "    return tf.reshape(x_tensor, shape=[-1, flattene_image_size])\n",
        "\n",
        "\n",
        "\"\"\"\n",
        "DON'T MODIFY ANYTHING IN THIS CELL THAT IS BELOW THIS LINE\n",
        "\"\"\"\n",
        "tests.test_flatten(flatten)"
      ],
      "execution_count": 11,
      "outputs": [
        {
          "output_type": "stream",
          "text": [
            "Tests Passed\n"
          ],
          "name": "stdout"
        }
      ]
    },
    {
      "cell_type": "markdown",
      "metadata": {
        "id": "jRU2yW_c5RLO",
        "colab_type": "text"
      },
      "source": [
        "### Fully-Connected Layer\n",
        "Implement the `fully_conn` function to apply a fully connected layer to `x_tensor` with the shape (*Batch Size*, *num_outputs*). Shortcut option: you can use classes from the [TensorFlow Layers](https://www.tensorflow.org/api_docs/python/tf/layers) or [TensorFlow Layers (contrib)](https://www.tensorflow.org/api_guides/python/contrib.layers) packages for this layer. For more of a challenge, only use other TensorFlow packages."
      ]
    },
    {
      "cell_type": "code",
      "metadata": {
        "id": "gkj21T-H5RLO",
        "colab_type": "code",
        "colab": {
          "base_uri": "https://localhost:8080/",
          "height": 34
        },
        "outputId": "cf23fa03-a4c5-4794-d9ad-594e8e9bbe4f"
      },
      "source": [
        "def fully_conn(x_tensor, num_outputs):\n",
        "    \"\"\"\n",
        "    Apply a fully connected layer to x_tensor using weight and bias\n",
        "    : x_tensor: A 2-D tensor where the first dimension is batch size.\n",
        "    : num_outputs: The number of output that the new tensor should be.\n",
        "    : return: A 2-D tensor where the second dimension is num_outputs.\n",
        "    \"\"\"\n",
        "    # TODO: Implement Function\n",
        "    # Weight and bias\n",
        "    weight = tf.Variable(tf.truncated_normal([x_tensor.get_shape().as_list()[1] ,num_outputs], stddev=0.1))\n",
        "    bias =tf.Variable(tf.zeros([num_outputs]))\n",
        "    \n",
        "    # Matrix multiplication input and weight, then add bias\n",
        "    fully_conn_layer= tf.add(tf.matmul(x_tensor, weight), bias)\n",
        "    \n",
        "    # Apply activation function\n",
        "    fully_conn_layer = tf.nn.relu(fully_conn_layer)\n",
        "    \n",
        "    return  fully_conn_layer\n",
        "\n",
        "\n",
        "\"\"\"\n",
        "DON'T MODIFY ANYTHING IN THIS CELL THAT IS BELOW THIS LINE\n",
        "\"\"\"\n",
        "tests.test_fully_conn(fully_conn)"
      ],
      "execution_count": 12,
      "outputs": [
        {
          "output_type": "stream",
          "text": [
            "Tests Passed\n"
          ],
          "name": "stdout"
        }
      ]
    },
    {
      "cell_type": "markdown",
      "metadata": {
        "id": "A_3OylXa5RLU",
        "colab_type": "text"
      },
      "source": [
        "### Output Layer\n",
        "Implement the `output` function to apply a fully connected layer to `x_tensor` with the shape (*Batch Size*, *num_outputs*). Shortcut option: you can use classes from the [TensorFlow Layers](https://www.tensorflow.org/api_docs/python/tf/layers) or [TensorFlow Layers (contrib)](https://www.tensorflow.org/api_guides/python/contrib.layers) packages for this layer. For more of a challenge, only use other TensorFlow packages.\n",
        "\n",
        "**Note:** Activation, softmax, or cross entropy should **not** be applied to this."
      ]
    },
    {
      "cell_type": "code",
      "metadata": {
        "id": "KNpjcXZN5RLV",
        "colab_type": "code",
        "colab": {
          "base_uri": "https://localhost:8080/",
          "height": 34
        },
        "outputId": "5b4e8fbb-d8a3-4499-e635-997332b16184"
      },
      "source": [
        "def output(x_tensor, num_outputs):\n",
        "    \"\"\"\n",
        "    Apply a output layer to x_tensor using weight and bias\n",
        "    : x_tensor: A 2-D tensor where the first dimension is batch size.\n",
        "    : num_outputs: The number of output that the new tensor should be.\n",
        "    : return: A 2-D tensor where the second dimension is num_outputs.\n",
        "    \"\"\"\n",
        "    # TODO: Implement Function\n",
        "    # Weight and bias\n",
        "    weight = tf.Variable(tf.truncated_normal([x_tensor.get_shape().as_list()[1] ,num_outputs], stddev=0.1))\n",
        "    bias =tf.Variable(tf.zeros([num_outputs]))\n",
        "    \n",
        "    # Matrix multiplication input and weight, then add bias\n",
        "    output_layer= tf.add(tf.matmul(x_tensor, weight), bias)\n",
        "\n",
        "    return output_layer\n",
        "\n",
        "\n",
        "\"\"\"\n",
        "DON'T MODIFY ANYTHING IN THIS CELL THAT IS BELOW THIS LINE\n",
        "\"\"\"\n",
        "tests.test_output(output)"
      ],
      "execution_count": 13,
      "outputs": [
        {
          "output_type": "stream",
          "text": [
            "Tests Passed\n"
          ],
          "name": "stdout"
        }
      ]
    },
    {
      "cell_type": "markdown",
      "metadata": {
        "id": "ODiVK9sH5RLZ",
        "colab_type": "text"
      },
      "source": [
        "### Create Convolutional Model\n",
        "Implement the function `conv_net` to create a convolutional neural network model. The function takes in a batch of images, `x`, and outputs logits.  Use the layers you created above to create this model:\n",
        "\n",
        "* Apply 1, 2, or 3 Convolution and Max Pool layers\n",
        "* Apply a Flatten Layer\n",
        "* Apply 1, 2, or 3 Fully Connected Layers\n",
        "* Apply an Output Layer\n",
        "* Return the output\n",
        "* Apply [TensorFlow's Dropout](https://www.tensorflow.org/api_docs/python/tf/nn/dropout) to one or more layers in the model using `keep_prob`. "
      ]
    },
    {
      "cell_type": "code",
      "metadata": {
        "id": "El54Y1m15RLZ",
        "colab_type": "code",
        "colab": {
          "base_uri": "https://localhost:8080/",
          "height": 190
        },
        "outputId": "27523896-edb3-4214-d2f3-5e092d131c24"
      },
      "source": [
        "def conv_net(x, keep_prob):\n",
        "    \"\"\"\n",
        "    Create a convolutional neural network model\n",
        "    : x: Placeholder tensor that holds image data.\n",
        "    : keep_prob: Placeholder tensor that hold dropout keep probability.\n",
        "    : return: Tensor that represents logits\n",
        "    \"\"\"\n",
        "    # TODO: Apply 1, 2, or 3 Convolution and Max Pool layers\n",
        "    #    Play around with different number of outputs, kernel size and stride\n",
        "    # Function Definition from Above:\n",
        "    #    conv2d_maxpool(x_tensor, conv_num_outputs, conv_ksize, conv_strides, pool_ksize, pool_strides)\n",
        "    conv2d_maxpool_layer1=conv2d_maxpool(x, conv_num_outputs=32, conv_ksize=(3,3), conv_strides=(1,1), pool_ksize=(2,2), pool_strides=(2,2))\n",
        "    conv2d_maxpool_bn_layer1=tf.layers.batch_normalization(conv2d_maxpool_layer1)\n",
        "\n",
        "    conv2d_maxpool_layer2=conv2d_maxpool(conv2d_maxpool_bn_layer1, conv_num_outputs=64, conv_ksize=(2,2), conv_strides=(1,1), pool_ksize=(2,2), pool_strides=(2,2))\n",
        "    conv2d_maxpool_bn_layer2=tf.layers.batch_normalization(conv2d_maxpool_layer2)\n",
        "\n",
        "    conv2d_maxpool_layer3=conv2d_maxpool(conv2d_maxpool_bn_layer2, conv_num_outputs=128, conv_ksize=(2,2), conv_strides=(1,1), pool_ksize=(2,2), pool_strides=(2,2))\n",
        "    conv2d_maxpool_bn_layer3=tf.layers.batch_normalization(conv2d_maxpool_layer3)\n",
        "\n",
        "\n",
        "\n",
        "\n",
        "    \n",
        "    # TODO: Apply a Flatten Layer\n",
        "    # Function Definition from Above:\n",
        "    #   flatten(x_tensor)\n",
        "    flatted_tensor=flatten(conv2d_maxpool_bn_layer3)\n",
        "\n",
        "    # TODO: Apply 1, 2, or 3 Fully Connected Layers\n",
        "    #    Play around with different number of outputs\n",
        "    # Function Definition from Above:\n",
        "    #   fully_conn(x_tensor, num_outputs)\n",
        "    fully_conn_layer1=fully_conn(flatted_tensor, num_outputs=128)\n",
        "    fully_conn_layer1=tf.nn.dropout(fully_conn_layer1, keep_prob)\n",
        "    fully_conn_layer1=tf.layers.batch_normalization(fully_conn_layer1)\n",
        "    \n",
        "    fully_conn_layer2=fully_conn(fully_conn_layer1, num_outputs=64)\n",
        "    fully_conn_layer2=tf.nn.dropout(fully_conn_layer2, keep_prob)\n",
        "    fully_conn_layer2=tf.layers.batch_normalization(fully_conn_layer2)\n",
        "\n",
        "\n",
        "    \n",
        "    # TODO: Apply an Output Layer\n",
        "    #    Set this to the number of classes\n",
        "    # Function Definition from Above:\n",
        "    #   output(x_tensor, num_outputs)\n",
        "    output_layer=output(fully_conn_layer2, num_outputs=10)\n",
        "    \n",
        "    \n",
        "    # TODO: return output\n",
        "    return output_layer\n",
        "\n",
        "\n",
        "\"\"\"\n",
        "DON'T MODIFY ANYTHING IN THIS CELL THAT IS BELOW THIS LINE\n",
        "\"\"\"\n",
        "\n",
        "##############################\n",
        "## Build the Neural Network ##\n",
        "##############################\n",
        "\n",
        "# Remove previous weights, bias, inputs, etc..\n",
        "tf.reset_default_graph()\n",
        "\n",
        "# Inputs\n",
        "x = neural_net_image_input((32, 32, 3))\n",
        "y = neural_net_label_input(10)\n",
        "keep_prob = neural_net_keep_prob_input()\n",
        "\n",
        "# Model\n",
        "logits = conv_net(x, keep_prob)\n",
        "\n",
        "# Name logits Tensor, so that is can be loaded from disk after training\n",
        "logits = tf.identity(logits, name='logits')\n",
        "\n",
        "# Loss and Optimizer\n",
        "cost = tf.reduce_mean(tf.nn.softmax_cross_entropy_with_logits(logits=logits, labels=y))\n",
        "optimizer = tf.train.AdamOptimizer().minimize(cost)\n",
        "\n",
        "# Accuracy\n",
        "correct_pred = tf.equal(tf.argmax(logits, 1), tf.argmax(y, 1))\n",
        "accuracy = tf.reduce_mean(tf.cast(correct_pred, tf.float32), name='accuracy')\n",
        "\n",
        "tests.test_conv_net(conv_net)"
      ],
      "execution_count": 14,
      "outputs": [
        {
          "output_type": "stream",
          "text": [
            "WARNING:tensorflow:From <ipython-input-14-ffd927fa2873>:78: softmax_cross_entropy_with_logits (from tensorflow.python.ops.nn_ops) is deprecated and will be removed in a future version.\n",
            "Instructions for updating:\n",
            "\n",
            "Future major versions of TensorFlow will allow gradients to flow\n",
            "into the labels input on backprop by default.\n",
            "\n",
            "See `tf.nn.softmax_cross_entropy_with_logits_v2`.\n",
            "\n",
            "Neural Network Built!\n"
          ],
          "name": "stdout"
        }
      ]
    },
    {
      "cell_type": "markdown",
      "metadata": {
        "id": "M9cWUTje5RLd",
        "colab_type": "text"
      },
      "source": [
        "## Train the Neural Network\n",
        "### Single Optimization\n",
        "Implement the function `train_neural_network` to do a single optimization.  The optimization should use `optimizer` to optimize in `session` with a `feed_dict` of the following:\n",
        "* `x` for image input\n",
        "* `y` for labels\n",
        "* `keep_prob` for keep probability for dropout\n",
        "\n",
        "This function will be called for each batch, so `tf.global_variables_initializer()` has already been called.\n",
        "\n",
        "Note: Nothing needs to be returned. This function is only optimizing the neural network."
      ]
    },
    {
      "cell_type": "code",
      "metadata": {
        "id": "V6I458885RLe",
        "colab_type": "code",
        "colab": {
          "base_uri": "https://localhost:8080/",
          "height": 34
        },
        "outputId": "bf91aba3-45e9-4253-f5e6-6b3479e29fc3"
      },
      "source": [
        "def train_neural_network(session, optimizer, keep_probability, feature_batch, label_batch):\n",
        "    \"\"\"\n",
        "    Optimize the session on a batch of images and labels\n",
        "    : session: Current TensorFlow session\n",
        "    : optimizer: TensorFlow optimizer function\n",
        "    : keep_probability: keep probability\n",
        "    : feature_batch: Batch of Numpy image data\n",
        "    : label_batch: Batch of Numpy label data\n",
        "    \"\"\"\n",
        "    # TODO: Implement Function\n",
        "   \n",
        "    session.run(optimizer, feed_dict={\n",
        "                                      x:feature_batch, \n",
        "                                      y:label_batch,\n",
        "                                      keep_prob:keep_probability})\n",
        "    pass\n",
        "\n",
        "\n",
        "\"\"\"\n",
        "DON'T MODIFY ANYTHING IN THIS CELL THAT IS BELOW THIS LINE\n",
        "\"\"\"\n",
        "tests.test_train_nn(train_neural_network)"
      ],
      "execution_count": 15,
      "outputs": [
        {
          "output_type": "stream",
          "text": [
            "Tests Passed\n"
          ],
          "name": "stdout"
        }
      ]
    },
    {
      "cell_type": "markdown",
      "metadata": {
        "id": "bBcWk5bW5RLj",
        "colab_type": "text"
      },
      "source": [
        "### Show Stats\n",
        "Implement the function `print_stats` to print loss and validation accuracy.  Use the global variables `valid_features` and `valid_labels` to calculate validation accuracy.  Use a keep probability of `1.0` to calculate the loss and validation accuracy."
      ]
    },
    {
      "cell_type": "code",
      "metadata": {
        "id": "dvHeqEdM5RLj",
        "colab_type": "code",
        "colab": {}
      },
      "source": [
        "def print_stats(session, feature_batch, label_batch, cost, accuracy):\n",
        "    \"\"\"\n",
        "    Print information about loss and validation accuracy\n",
        "    : session: Current TensorFlow session\n",
        "    : feature_batch: Batch of Numpy image data\n",
        "    : label_batch: Batch of Numpy label data\n",
        "    : cost: TensorFlow cost function\n",
        "    : accuracy: TensorFlow accuracy function\n",
        "    \"\"\"\n",
        "    # TODO: Implement Function\n",
        "    # Calculate batch loss and accuracy\n",
        "    loss= session.run(cost, feed_dict={\n",
        "                x:feature_batch,\n",
        "                y:label_batch,\n",
        "                keep_prob: 1.0})\n",
        "    \n",
        "    validation_accuracy= session.run(accuracy, feed_dict={\n",
        "                x: valid_features,\n",
        "                y: valid_labels,\n",
        "                keep_prob: 1.0})\n",
        "    \n",
        "    print('Loss: {:>10.4f} Validation Accuracy: {:.6f}'.format(loss, validation_accuracy))\n",
        "    pass"
      ],
      "execution_count": 0,
      "outputs": []
    },
    {
      "cell_type": "markdown",
      "metadata": {
        "id": "sk9IHlHf5RLo",
        "colab_type": "text"
      },
      "source": [
        "### Hyperparameters\n",
        "Tune the following parameters:\n",
        "* Set `epochs` to the number of iterations until the network stops learning or start overfitting\n",
        "* Set `batch_size` to the highest number that your machine has memory for.  Most people set them to common sizes of memory:\n",
        " * 64\n",
        " * 128\n",
        " * 256\n",
        " * ...\n",
        "* Set `keep_probability` to the probability of keeping a node using dropout"
      ]
    },
    {
      "cell_type": "code",
      "metadata": {
        "id": "4hhoz0ow5RLp",
        "colab_type": "code",
        "colab": {}
      },
      "source": [
        "# TODO: Tune Parameters\n",
        "epochs = 30\n",
        "batch_size = 256\n",
        "keep_probability = 0.5"
      ],
      "execution_count": 0,
      "outputs": []
    },
    {
      "cell_type": "markdown",
      "metadata": {
        "id": "55ubLrcf5RLv",
        "colab_type": "text"
      },
      "source": [
        "### Train on a Single CIFAR-10 Batch\n",
        "Instead of training the neural network on all the CIFAR-10 batches of data, let's use a single batch. This should save time while you iterate on the model to get a better accuracy.  Once the final validation accuracy is 50% or greater, run the model on all the data in the next section."
      ]
    },
    {
      "cell_type": "code",
      "metadata": {
        "id": "1ckKK-WT5RLv",
        "colab_type": "code",
        "colab": {
          "base_uri": "https://localhost:8080/",
          "height": 544
        },
        "outputId": "1fcecb9a-7ddf-48e2-849d-decd8a09aa0a"
      },
      "source": [
        "\"\"\"\n",
        "DON'T MODIFY ANYTHING IN THIS CELL\n",
        "\"\"\"\n",
        "print('Checking the Training on a Single Batch...')\n",
        "with tf.Session() as sess:\n",
        "    # Initializing the variables\n",
        "    sess.run(tf.global_variables_initializer())\n",
        "    \n",
        "    # Training cycle\n",
        "    for epoch in range(epochs):\n",
        "        batch_i = 1\n",
        "        for batch_features, batch_labels in helper.load_preprocess_training_batch(batch_i, batch_size):\n",
        "            train_neural_network(sess, optimizer, keep_probability, batch_features, batch_labels)\n",
        "        print('Epoch {:>2}, CIFAR-10 Batch {}:  '.format(epoch + 1, batch_i), end='')\n",
        "        print_stats(sess, batch_features, batch_labels, cost, accuracy)"
      ],
      "execution_count": 18,
      "outputs": [
        {
          "output_type": "stream",
          "text": [
            "Checking the Training on a Single Batch...\n",
            "Epoch  1, CIFAR-10 Batch 1:  Loss:     2.2083 Validation Accuracy: 0.240600\n",
            "Epoch  2, CIFAR-10 Batch 1:  Loss:     2.1138 Validation Accuracy: 0.297800\n",
            "Epoch  3, CIFAR-10 Batch 1:  Loss:     1.9644 Validation Accuracy: 0.370800\n",
            "Epoch  4, CIFAR-10 Batch 1:  Loss:     1.8555 Validation Accuracy: 0.402000\n",
            "Epoch  5, CIFAR-10 Batch 1:  Loss:     1.6764 Validation Accuracy: 0.431800\n",
            "Epoch  6, CIFAR-10 Batch 1:  Loss:     1.5605 Validation Accuracy: 0.441600\n",
            "Epoch  7, CIFAR-10 Batch 1:  Loss:     1.3512 Validation Accuracy: 0.484800\n",
            "Epoch  8, CIFAR-10 Batch 1:  Loss:     1.3206 Validation Accuracy: 0.477200\n",
            "Epoch  9, CIFAR-10 Batch 1:  Loss:     1.1480 Validation Accuracy: 0.506200\n",
            "Epoch 10, CIFAR-10 Batch 1:  Loss:     1.0433 Validation Accuracy: 0.515000\n",
            "Epoch 11, CIFAR-10 Batch 1:  Loss:     0.9855 Validation Accuracy: 0.531800\n",
            "Epoch 12, CIFAR-10 Batch 1:  Loss:     0.8901 Validation Accuracy: 0.540000\n",
            "Epoch 13, CIFAR-10 Batch 1:  Loss:     0.7951 Validation Accuracy: 0.545000\n",
            "Epoch 14, CIFAR-10 Batch 1:  Loss:     0.7860 Validation Accuracy: 0.555200\n",
            "Epoch 15, CIFAR-10 Batch 1:  Loss:     0.6901 Validation Accuracy: 0.567600\n",
            "Epoch 16, CIFAR-10 Batch 1:  Loss:     0.6197 Validation Accuracy: 0.576400\n",
            "Epoch 17, CIFAR-10 Batch 1:  Loss:     0.5541 Validation Accuracy: 0.567200\n",
            "Epoch 18, CIFAR-10 Batch 1:  Loss:     0.5305 Validation Accuracy: 0.552800\n",
            "Epoch 19, CIFAR-10 Batch 1:  Loss:     0.5233 Validation Accuracy: 0.582800\n",
            "Epoch 20, CIFAR-10 Batch 1:  Loss:     0.4133 Validation Accuracy: 0.594400\n",
            "Epoch 21, CIFAR-10 Batch 1:  Loss:     0.4192 Validation Accuracy: 0.575600\n",
            "Epoch 22, CIFAR-10 Batch 1:  Loss:     0.3472 Validation Accuracy: 0.588200\n",
            "Epoch 23, CIFAR-10 Batch 1:  Loss:     0.3123 Validation Accuracy: 0.604600\n",
            "Epoch 24, CIFAR-10 Batch 1:  Loss:     0.3079 Validation Accuracy: 0.606000\n",
            "Epoch 25, CIFAR-10 Batch 1:  Loss:     0.2445 Validation Accuracy: 0.614600\n",
            "Epoch 26, CIFAR-10 Batch 1:  Loss:     0.2186 Validation Accuracy: 0.609800\n",
            "Epoch 27, CIFAR-10 Batch 1:  Loss:     0.2367 Validation Accuracy: 0.607400\n",
            "Epoch 28, CIFAR-10 Batch 1:  Loss:     0.2143 Validation Accuracy: 0.614600\n",
            "Epoch 29, CIFAR-10 Batch 1:  Loss:     0.1658 Validation Accuracy: 0.610200\n",
            "Epoch 30, CIFAR-10 Batch 1:  Loss:     0.1677 Validation Accuracy: 0.631000\n"
          ],
          "name": "stdout"
        }
      ]
    },
    {
      "cell_type": "markdown",
      "metadata": {
        "id": "RC-ezJgY5RLz",
        "colab_type": "text"
      },
      "source": [
        "### Fully Train the Model\n",
        "Now that you got a good accuracy with a single CIFAR-10 batch, try it with all five batches."
      ]
    },
    {
      "cell_type": "code",
      "metadata": {
        "id": "XCMNGvvL5RL0",
        "colab_type": "code",
        "colab": {
          "base_uri": "https://localhost:8080/",
          "height": 1000
        },
        "outputId": "e024c9ab-5598-4650-acdd-fc58c210841d"
      },
      "source": [
        "\"\"\"\n",
        "DON'T MODIFY ANYTHING IN THIS CELL\n",
        "\"\"\"\n",
        "save_model_path = './image_classification'\n",
        "\n",
        "print('Training...')\n",
        "with tf.Session() as sess:\n",
        "    # Initializing the variables\n",
        "    sess.run(tf.global_variables_initializer())\n",
        "    \n",
        "    # Training cycle\n",
        "    for epoch in range(epochs):\n",
        "        # Loop over all batches\n",
        "        n_batches = 5\n",
        "        for batch_i in range(1, n_batches + 1):\n",
        "            for batch_features, batch_labels in helper.load_preprocess_training_batch(batch_i, batch_size):\n",
        "                train_neural_network(sess, optimizer, keep_probability, batch_features, batch_labels)\n",
        "            print('Epoch {:>2}, CIFAR-10 Batch {}:  '.format(epoch + 1, batch_i), end='')\n",
        "            print_stats(sess, batch_features, batch_labels, cost, accuracy)\n",
        "            \n",
        "    # Save Model\n",
        "    saver = tf.train.Saver()\n",
        "    save_path = saver.save(sess, save_model_path)"
      ],
      "execution_count": 19,
      "outputs": [
        {
          "output_type": "stream",
          "text": [
            "Training...\n",
            "Epoch  1, CIFAR-10 Batch 1:  Loss:     2.2526 Validation Accuracy: 0.203200\n",
            "Epoch  1, CIFAR-10 Batch 2:  Loss:     1.9816 Validation Accuracy: 0.297400\n",
            "Epoch  1, CIFAR-10 Batch 3:  Loss:     1.7399 Validation Accuracy: 0.307200\n",
            "Epoch  1, CIFAR-10 Batch 4:  Loss:     1.7390 Validation Accuracy: 0.355800\n",
            "Epoch  1, CIFAR-10 Batch 5:  Loss:     1.5988 Validation Accuracy: 0.391400\n",
            "Epoch  2, CIFAR-10 Batch 1:  Loss:     1.7818 Validation Accuracy: 0.425200\n",
            "Epoch  2, CIFAR-10 Batch 2:  Loss:     1.6195 Validation Accuracy: 0.446000\n",
            "Epoch  2, CIFAR-10 Batch 3:  Loss:     1.2698 Validation Accuracy: 0.454600\n",
            "Epoch  2, CIFAR-10 Batch 4:  Loss:     1.4977 Validation Accuracy: 0.481800\n",
            "Epoch  2, CIFAR-10 Batch 5:  Loss:     1.3486 Validation Accuracy: 0.493800\n",
            "Epoch  3, CIFAR-10 Batch 1:  Loss:     1.3913 Validation Accuracy: 0.479600\n",
            "Epoch  3, CIFAR-10 Batch 2:  Loss:     1.3643 Validation Accuracy: 0.517200\n",
            "Epoch  3, CIFAR-10 Batch 3:  Loss:     1.0597 Validation Accuracy: 0.517400\n",
            "Epoch  3, CIFAR-10 Batch 4:  Loss:     1.1867 Validation Accuracy: 0.539400\n",
            "Epoch  3, CIFAR-10 Batch 5:  Loss:     1.1173 Validation Accuracy: 0.548000\n",
            "Epoch  4, CIFAR-10 Batch 1:  Loss:     1.1751 Validation Accuracy: 0.566000\n",
            "Epoch  4, CIFAR-10 Batch 2:  Loss:     1.1839 Validation Accuracy: 0.551600\n",
            "Epoch  4, CIFAR-10 Batch 3:  Loss:     0.9239 Validation Accuracy: 0.568800\n",
            "Epoch  4, CIFAR-10 Batch 4:  Loss:     1.1012 Validation Accuracy: 0.576600\n",
            "Epoch  4, CIFAR-10 Batch 5:  Loss:     0.9884 Validation Accuracy: 0.577600\n",
            "Epoch  5, CIFAR-10 Batch 1:  Loss:     1.0227 Validation Accuracy: 0.577000\n",
            "Epoch  5, CIFAR-10 Batch 2:  Loss:     0.9763 Validation Accuracy: 0.580800\n",
            "Epoch  5, CIFAR-10 Batch 3:  Loss:     0.8194 Validation Accuracy: 0.595200\n",
            "Epoch  5, CIFAR-10 Batch 4:  Loss:     0.9053 Validation Accuracy: 0.616200\n",
            "Epoch  5, CIFAR-10 Batch 5:  Loss:     0.8669 Validation Accuracy: 0.611400\n",
            "Epoch  6, CIFAR-10 Batch 1:  Loss:     0.8343 Validation Accuracy: 0.601400\n",
            "Epoch  6, CIFAR-10 Batch 2:  Loss:     0.8455 Validation Accuracy: 0.623800\n",
            "Epoch  6, CIFAR-10 Batch 3:  Loss:     0.6629 Validation Accuracy: 0.615800\n",
            "Epoch  6, CIFAR-10 Batch 4:  Loss:     0.7554 Validation Accuracy: 0.629600\n",
            "Epoch  6, CIFAR-10 Batch 5:  Loss:     0.7244 Validation Accuracy: 0.634600\n",
            "Epoch  7, CIFAR-10 Batch 1:  Loss:     0.6876 Validation Accuracy: 0.612400\n",
            "Epoch  7, CIFAR-10 Batch 2:  Loss:     0.6936 Validation Accuracy: 0.644000\n",
            "Epoch  7, CIFAR-10 Batch 3:  Loss:     0.5765 Validation Accuracy: 0.649200\n",
            "Epoch  7, CIFAR-10 Batch 4:  Loss:     0.6357 Validation Accuracy: 0.665000\n",
            "Epoch  7, CIFAR-10 Batch 5:  Loss:     0.6264 Validation Accuracy: 0.658800\n",
            "Epoch  8, CIFAR-10 Batch 1:  Loss:     0.6157 Validation Accuracy: 0.651800\n",
            "Epoch  8, CIFAR-10 Batch 2:  Loss:     0.5297 Validation Accuracy: 0.658800\n",
            "Epoch  8, CIFAR-10 Batch 3:  Loss:     0.4611 Validation Accuracy: 0.631200\n",
            "Epoch  8, CIFAR-10 Batch 4:  Loss:     0.5751 Validation Accuracy: 0.671200\n",
            "Epoch  8, CIFAR-10 Batch 5:  Loss:     0.5111 Validation Accuracy: 0.678600\n",
            "Epoch  9, CIFAR-10 Batch 1:  Loss:     0.4765 Validation Accuracy: 0.662000\n",
            "Epoch  9, CIFAR-10 Batch 2:  Loss:     0.4597 Validation Accuracy: 0.668400\n",
            "Epoch  9, CIFAR-10 Batch 3:  Loss:     0.3938 Validation Accuracy: 0.666200\n",
            "Epoch  9, CIFAR-10 Batch 4:  Loss:     0.4895 Validation Accuracy: 0.685200\n",
            "Epoch  9, CIFAR-10 Batch 5:  Loss:     0.4601 Validation Accuracy: 0.675600\n",
            "Epoch 10, CIFAR-10 Batch 1:  Loss:     0.4605 Validation Accuracy: 0.682200\n",
            "Epoch 10, CIFAR-10 Batch 2:  Loss:     0.3824 Validation Accuracy: 0.681200\n",
            "Epoch 10, CIFAR-10 Batch 3:  Loss:     0.3451 Validation Accuracy: 0.678400\n",
            "Epoch 10, CIFAR-10 Batch 4:  Loss:     0.4277 Validation Accuracy: 0.692200\n",
            "Epoch 10, CIFAR-10 Batch 5:  Loss:     0.3747 Validation Accuracy: 0.696600\n",
            "Epoch 11, CIFAR-10 Batch 1:  Loss:     0.4468 Validation Accuracy: 0.677200\n",
            "Epoch 11, CIFAR-10 Batch 2:  Loss:     0.3595 Validation Accuracy: 0.692400\n",
            "Epoch 11, CIFAR-10 Batch 3:  Loss:     0.3251 Validation Accuracy: 0.690200\n",
            "Epoch 11, CIFAR-10 Batch 4:  Loss:     0.3751 Validation Accuracy: 0.696600\n",
            "Epoch 11, CIFAR-10 Batch 5:  Loss:     0.3091 Validation Accuracy: 0.701600\n",
            "Epoch 12, CIFAR-10 Batch 1:  Loss:     0.3609 Validation Accuracy: 0.704400\n",
            "Epoch 12, CIFAR-10 Batch 2:  Loss:     0.3153 Validation Accuracy: 0.697200\n",
            "Epoch 12, CIFAR-10 Batch 3:  Loss:     0.2784 Validation Accuracy: 0.689000\n",
            "Epoch 12, CIFAR-10 Batch 4:  Loss:     0.3018 Validation Accuracy: 0.704200\n",
            "Epoch 12, CIFAR-10 Batch 5:  Loss:     0.2973 Validation Accuracy: 0.708400\n",
            "Epoch 13, CIFAR-10 Batch 1:  Loss:     0.2905 Validation Accuracy: 0.705200\n",
            "Epoch 13, CIFAR-10 Batch 2:  Loss:     0.2818 Validation Accuracy: 0.697000\n",
            "Epoch 13, CIFAR-10 Batch 3:  Loss:     0.2765 Validation Accuracy: 0.701600\n",
            "Epoch 13, CIFAR-10 Batch 4:  Loss:     0.2916 Validation Accuracy: 0.711000\n",
            "Epoch 13, CIFAR-10 Batch 5:  Loss:     0.2834 Validation Accuracy: 0.709600\n",
            "Epoch 14, CIFAR-10 Batch 1:  Loss:     0.3226 Validation Accuracy: 0.708000\n",
            "Epoch 14, CIFAR-10 Batch 2:  Loss:     0.2352 Validation Accuracy: 0.705800\n",
            "Epoch 14, CIFAR-10 Batch 3:  Loss:     0.2209 Validation Accuracy: 0.710200\n",
            "Epoch 14, CIFAR-10 Batch 4:  Loss:     0.2602 Validation Accuracy: 0.715400\n",
            "Epoch 14, CIFAR-10 Batch 5:  Loss:     0.2387 Validation Accuracy: 0.717600\n",
            "Epoch 15, CIFAR-10 Batch 1:  Loss:     0.2882 Validation Accuracy: 0.716400\n",
            "Epoch 15, CIFAR-10 Batch 2:  Loss:     0.2375 Validation Accuracy: 0.706800\n",
            "Epoch 15, CIFAR-10 Batch 3:  Loss:     0.1769 Validation Accuracy: 0.716600\n",
            "Epoch 15, CIFAR-10 Batch 4:  Loss:     0.1972 Validation Accuracy: 0.717400\n",
            "Epoch 15, CIFAR-10 Batch 5:  Loss:     0.2030 Validation Accuracy: 0.718600\n",
            "Epoch 16, CIFAR-10 Batch 1:  Loss:     0.2798 Validation Accuracy: 0.715200\n",
            "Epoch 16, CIFAR-10 Batch 2:  Loss:     0.2132 Validation Accuracy: 0.704000\n",
            "Epoch 16, CIFAR-10 Batch 3:  Loss:     0.1806 Validation Accuracy: 0.716200\n",
            "Epoch 16, CIFAR-10 Batch 4:  Loss:     0.1991 Validation Accuracy: 0.712200\n",
            "Epoch 16, CIFAR-10 Batch 5:  Loss:     0.2017 Validation Accuracy: 0.706400\n",
            "Epoch 17, CIFAR-10 Batch 1:  Loss:     0.2071 Validation Accuracy: 0.723400\n",
            "Epoch 17, CIFAR-10 Batch 2:  Loss:     0.2102 Validation Accuracy: 0.713800\n",
            "Epoch 17, CIFAR-10 Batch 3:  Loss:     0.1522 Validation Accuracy: 0.722600\n",
            "Epoch 17, CIFAR-10 Batch 4:  Loss:     0.1548 Validation Accuracy: 0.718400\n",
            "Epoch 17, CIFAR-10 Batch 5:  Loss:     0.1866 Validation Accuracy: 0.710600\n",
            "Epoch 18, CIFAR-10 Batch 1:  Loss:     0.2371 Validation Accuracy: 0.712000\n",
            "Epoch 18, CIFAR-10 Batch 2:  Loss:     0.1859 Validation Accuracy: 0.716200\n",
            "Epoch 18, CIFAR-10 Batch 3:  Loss:     0.1452 Validation Accuracy: 0.724400\n",
            "Epoch 18, CIFAR-10 Batch 4:  Loss:     0.1498 Validation Accuracy: 0.725000\n",
            "Epoch 18, CIFAR-10 Batch 5:  Loss:     0.1440 Validation Accuracy: 0.709200\n",
            "Epoch 19, CIFAR-10 Batch 1:  Loss:     0.1965 Validation Accuracy: 0.716000\n",
            "Epoch 19, CIFAR-10 Batch 2:  Loss:     0.1595 Validation Accuracy: 0.716200\n",
            "Epoch 19, CIFAR-10 Batch 3:  Loss:     0.1391 Validation Accuracy: 0.721000\n",
            "Epoch 19, CIFAR-10 Batch 4:  Loss:     0.1368 Validation Accuracy: 0.724400\n",
            "Epoch 19, CIFAR-10 Batch 5:  Loss:     0.1024 Validation Accuracy: 0.717200\n",
            "Epoch 20, CIFAR-10 Batch 1:  Loss:     0.1419 Validation Accuracy: 0.727400\n",
            "Epoch 20, CIFAR-10 Batch 2:  Loss:     0.1509 Validation Accuracy: 0.718800\n",
            "Epoch 20, CIFAR-10 Batch 3:  Loss:     0.1178 Validation Accuracy: 0.724800\n",
            "Epoch 20, CIFAR-10 Batch 4:  Loss:     0.1153 Validation Accuracy: 0.723800\n",
            "Epoch 20, CIFAR-10 Batch 5:  Loss:     0.1034 Validation Accuracy: 0.724400\n",
            "Epoch 21, CIFAR-10 Batch 1:  Loss:     0.1713 Validation Accuracy: 0.729200\n",
            "Epoch 21, CIFAR-10 Batch 2:  Loss:     0.1462 Validation Accuracy: 0.728200\n",
            "Epoch 21, CIFAR-10 Batch 3:  Loss:     0.0869 Validation Accuracy: 0.721800\n",
            "Epoch 21, CIFAR-10 Batch 4:  Loss:     0.1046 Validation Accuracy: 0.721800\n",
            "Epoch 21, CIFAR-10 Batch 5:  Loss:     0.1062 Validation Accuracy: 0.724600\n",
            "Epoch 22, CIFAR-10 Batch 1:  Loss:     0.1322 Validation Accuracy: 0.720600\n",
            "Epoch 22, CIFAR-10 Batch 2:  Loss:     0.1439 Validation Accuracy: 0.722800\n",
            "Epoch 22, CIFAR-10 Batch 3:  Loss:     0.0890 Validation Accuracy: 0.726600\n",
            "Epoch 22, CIFAR-10 Batch 4:  Loss:     0.0945 Validation Accuracy: 0.723600\n",
            "Epoch 22, CIFAR-10 Batch 5:  Loss:     0.0871 Validation Accuracy: 0.732400\n",
            "Epoch 23, CIFAR-10 Batch 1:  Loss:     0.1265 Validation Accuracy: 0.730000\n",
            "Epoch 23, CIFAR-10 Batch 2:  Loss:     0.1235 Validation Accuracy: 0.724200\n",
            "Epoch 23, CIFAR-10 Batch 3:  Loss:     0.0826 Validation Accuracy: 0.728200\n",
            "Epoch 23, CIFAR-10 Batch 4:  Loss:     0.0945 Validation Accuracy: 0.733800\n",
            "Epoch 23, CIFAR-10 Batch 5:  Loss:     0.0946 Validation Accuracy: 0.722200\n",
            "Epoch 24, CIFAR-10 Batch 1:  Loss:     0.1185 Validation Accuracy: 0.722000\n",
            "Epoch 24, CIFAR-10 Batch 2:  Loss:     0.1073 Validation Accuracy: 0.726800\n",
            "Epoch 24, CIFAR-10 Batch 3:  Loss:     0.0845 Validation Accuracy: 0.730200\n",
            "Epoch 24, CIFAR-10 Batch 4:  Loss:     0.0845 Validation Accuracy: 0.741800\n",
            "Epoch 24, CIFAR-10 Batch 5:  Loss:     0.0905 Validation Accuracy: 0.724000\n",
            "Epoch 25, CIFAR-10 Batch 1:  Loss:     0.1215 Validation Accuracy: 0.721800\n",
            "Epoch 25, CIFAR-10 Batch 2:  Loss:     0.1053 Validation Accuracy: 0.718200\n",
            "Epoch 25, CIFAR-10 Batch 3:  Loss:     0.0776 Validation Accuracy: 0.724800\n",
            "Epoch 25, CIFAR-10 Batch 4:  Loss:     0.0862 Validation Accuracy: 0.733800\n",
            "Epoch 25, CIFAR-10 Batch 5:  Loss:     0.0626 Validation Accuracy: 0.726600\n",
            "Epoch 26, CIFAR-10 Batch 1:  Loss:     0.1009 Validation Accuracy: 0.731400\n",
            "Epoch 26, CIFAR-10 Batch 2:  Loss:     0.1164 Validation Accuracy: 0.730400\n",
            "Epoch 26, CIFAR-10 Batch 3:  Loss:     0.0691 Validation Accuracy: 0.727600\n",
            "Epoch 26, CIFAR-10 Batch 4:  Loss:     0.0832 Validation Accuracy: 0.729800\n",
            "Epoch 26, CIFAR-10 Batch 5:  Loss:     0.0759 Validation Accuracy: 0.729600\n",
            "Epoch 27, CIFAR-10 Batch 1:  Loss:     0.1147 Validation Accuracy: 0.727400\n",
            "Epoch 27, CIFAR-10 Batch 2:  Loss:     0.1003 Validation Accuracy: 0.720600\n",
            "Epoch 27, CIFAR-10 Batch 3:  Loss:     0.0606 Validation Accuracy: 0.727000\n",
            "Epoch 27, CIFAR-10 Batch 4:  Loss:     0.0675 Validation Accuracy: 0.740000\n",
            "Epoch 27, CIFAR-10 Batch 5:  Loss:     0.0702 Validation Accuracy: 0.733600\n",
            "Epoch 28, CIFAR-10 Batch 1:  Loss:     0.1050 Validation Accuracy: 0.728400\n",
            "Epoch 28, CIFAR-10 Batch 2:  Loss:     0.0975 Validation Accuracy: 0.735000\n",
            "Epoch 28, CIFAR-10 Batch 3:  Loss:     0.0654 Validation Accuracy: 0.730600\n",
            "Epoch 28, CIFAR-10 Batch 4:  Loss:     0.0843 Validation Accuracy: 0.732200\n",
            "Epoch 28, CIFAR-10 Batch 5:  Loss:     0.0524 Validation Accuracy: 0.727400\n",
            "Epoch 29, CIFAR-10 Batch 1:  Loss:     0.0963 Validation Accuracy: 0.720800\n",
            "Epoch 29, CIFAR-10 Batch 2:  Loss:     0.1003 Validation Accuracy: 0.717000\n",
            "Epoch 29, CIFAR-10 Batch 3:  Loss:     0.0501 Validation Accuracy: 0.721600\n",
            "Epoch 29, CIFAR-10 Batch 4:  Loss:     0.0705 Validation Accuracy: 0.736000\n",
            "Epoch 29, CIFAR-10 Batch 5:  Loss:     0.0740 Validation Accuracy: 0.722000\n",
            "Epoch 30, CIFAR-10 Batch 1:  Loss:     0.0919 Validation Accuracy: 0.714800\n",
            "Epoch 30, CIFAR-10 Batch 2:  Loss:     0.1091 Validation Accuracy: 0.722800\n",
            "Epoch 30, CIFAR-10 Batch 3:  Loss:     0.0662 Validation Accuracy: 0.719400\n",
            "Epoch 30, CIFAR-10 Batch 4:  Loss:     0.0680 Validation Accuracy: 0.732000\n",
            "Epoch 30, CIFAR-10 Batch 5:  Loss:     0.0543 Validation Accuracy: 0.730800\n"
          ],
          "name": "stdout"
        }
      ]
    },
    {
      "cell_type": "markdown",
      "metadata": {
        "id": "Vd8AUmV15RL3",
        "colab_type": "text"
      },
      "source": [
        "# Checkpoint\n",
        "The model has been saved to disk.\n",
        "## Test Model\n",
        "Test your model against the test dataset.  This will be your final accuracy. You should have an accuracy greater than 50%. If you don't, keep tweaking the model architecture and parameters."
      ]
    },
    {
      "cell_type": "code",
      "metadata": {
        "id": "kE6NKLco5RL4",
        "colab_type": "code",
        "colab": {
          "base_uri": "https://localhost:8080/",
          "height": 387
        },
        "outputId": "4ac06933-7fe6-428f-8d80-9c80ddd3ad29"
      },
      "source": [
        "\"\"\"\n",
        "DON'T MODIFY ANYTHING IN THIS CELL\n",
        "\"\"\"\n",
        "%matplotlib inline\n",
        "%config InlineBackend.figure_format = 'retina'\n",
        "\n",
        "import tensorflow as tf\n",
        "import pickle\n",
        "import helper\n",
        "import random\n",
        "\n",
        "# Set batch size if not already set\n",
        "try:\n",
        "    if batch_size:\n",
        "        pass\n",
        "except NameError:\n",
        "    batch_size = 64\n",
        "\n",
        "save_model_path = './image_classification'\n",
        "n_samples = 4\n",
        "top_n_predictions = 3\n",
        "\n",
        "def test_model():\n",
        "    \"\"\"\n",
        "    Test the saved model against the test dataset\n",
        "    \"\"\"\n",
        "\n",
        "    test_features, test_labels = pickle.load(open('preprocess_test.p', mode='rb'))\n",
        "    loaded_graph = tf.Graph()\n",
        "\n",
        "    with tf.Session(graph=loaded_graph) as sess:\n",
        "        # Load model\n",
        "        loader = tf.train.import_meta_graph(save_model_path + '.meta')\n",
        "        loader.restore(sess, save_model_path)\n",
        "\n",
        "        # Get Tensors from loaded model\n",
        "        loaded_x = loaded_graph.get_tensor_by_name('x:0')\n",
        "        loaded_y = loaded_graph.get_tensor_by_name('y:0')\n",
        "        loaded_keep_prob = loaded_graph.get_tensor_by_name('keep_prob:0')\n",
        "        loaded_logits = loaded_graph.get_tensor_by_name('logits:0')\n",
        "        loaded_acc = loaded_graph.get_tensor_by_name('accuracy:0')\n",
        "        \n",
        "        # Get accuracy in batches for memory limitations\n",
        "        test_batch_acc_total = 0\n",
        "        test_batch_count = 0\n",
        "        \n",
        "        for test_feature_batch, test_label_batch in helper.batch_features_labels(test_features, test_labels, batch_size):\n",
        "            test_batch_acc_total += sess.run(\n",
        "                loaded_acc,\n",
        "                feed_dict={loaded_x: test_feature_batch, loaded_y: test_label_batch, loaded_keep_prob: 1.0})\n",
        "            test_batch_count += 1\n",
        "\n",
        "        print('Testing Accuracy: {}\\n'.format(test_batch_acc_total/test_batch_count))\n",
        "\n",
        "        # Print Random Samples\n",
        "        random_test_features, random_test_labels = tuple(zip(*random.sample(list(zip(test_features, test_labels)), n_samples)))\n",
        "        random_test_predictions = sess.run(\n",
        "            tf.nn.top_k(tf.nn.softmax(loaded_logits), top_n_predictions),\n",
        "            feed_dict={loaded_x: random_test_features, loaded_y: random_test_labels, loaded_keep_prob: 1.0})\n",
        "        helper.display_image_predictions(random_test_features, random_test_labels, random_test_predictions)\n",
        "\n",
        "\n",
        "test_model()"
      ],
      "execution_count": 22,
      "outputs": [
        {
          "output_type": "stream",
          "text": [
            "INFO:tensorflow:Restoring parameters from ./image_classification\n",
            "Testing Accuracy: 0.728515625\n",
            "\n"
          ],
          "name": "stdout"
        },
        {
          "output_type": "display_data",
          "data": {
            "image/png": "[encoded data removed]",
            "text/plain": [
              "<Figure size 432x288 with 8 Axes>"
            ]
          },
          "metadata": {
            "tags": [],
            "image/png": {
              "width": 351,
              "height": 319
            },
            "needs_background": "light"
          }
        }
      ]
    },
    {
      "cell_type": "markdown",
      "metadata": {
        "id": "2eSwTlnu5RL7",
        "colab_type": "text"
      },
      "source": [
        "## Why 50-80% Accuracy?\n",
        "You might be wondering why you can't get an accuracy any higher. First things first, 50% isn't bad for a simple CNN.  Pure guessing would get you 10% accuracy. However, you might notice people are getting scores [well above 80%](http://rodrigob.github.io/are_we_there_yet/build/classification_datasets_results.html#43494641522d3130).  That's because we haven't taught you all there is to know about neural networks. We still need to cover a few more techniques.\n",
        "## Submitting This Project\n",
        "When submitting this project, make sure to run all the cells before saving the notebook.  Save the notebook file as \"dlnd_image_classification.ipynb\" and save it as a HTML file under \"File\" -> \"Download as\".  Include the \"helper.py\" and \"problem_unittests.py\" files in your submission."
      ]
    }
  ]
}